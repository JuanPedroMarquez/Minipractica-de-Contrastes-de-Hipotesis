{
 "cells": [
  {
   "cell_type": "markdown",
   "metadata": {},
   "source": [
    "# CONTRASTES DE HIPÓTESIS DEL TITANIC"
   ]
  },
  {
   "cell_type": "markdown",
   "metadata": {},
   "source": [
    "En este Notebook haremos un breve repaso sobre los contrastes de hipótesis, cómo plantearlos y cómo interpretar los resultados, de cara a practicar nuestras habilidades estadísticas."
   ]
  },
  {
   "cell_type": "markdown",
   "metadata": {},
   "source": [
    "## Importamos Librerías y limpiamos data (borramos nulos)"
   ]
  },
  {
   "cell_type": "code",
   "execution_count": 1,
   "metadata": {},
   "outputs": [],
   "source": [
    "import pandas as pd\n",
    "import numpy as np\n",
    "import scipy.stats as stats\n",
    "import seaborn as sns\n",
    "import matplotlib.pyplot as plt\n",
    "\n",
    "titanic_data = sns.load_dataset('titanic')\n",
    "titanic_data.dropna(inplace=True)"
   ]
  },
  {
   "cell_type": "code",
   "execution_count": 2,
   "metadata": {},
   "outputs": [
    {
     "data": {
      "text/html": [
       "<div>\n",
       "<style scoped>\n",
       "    .dataframe tbody tr th:only-of-type {\n",
       "        vertical-align: middle;\n",
       "    }\n",
       "\n",
       "    .dataframe tbody tr th {\n",
       "        vertical-align: top;\n",
       "    }\n",
       "\n",
       "    .dataframe thead th {\n",
       "        text-align: right;\n",
       "    }\n",
       "</style>\n",
       "<table border=\"1\" class=\"dataframe\">\n",
       "  <thead>\n",
       "    <tr style=\"text-align: right;\">\n",
       "      <th></th>\n",
       "      <th>survived</th>\n",
       "      <th>pclass</th>\n",
       "      <th>sex</th>\n",
       "      <th>age</th>\n",
       "      <th>sibsp</th>\n",
       "      <th>parch</th>\n",
       "      <th>fare</th>\n",
       "      <th>embarked</th>\n",
       "      <th>class</th>\n",
       "      <th>who</th>\n",
       "      <th>adult_male</th>\n",
       "      <th>deck</th>\n",
       "      <th>embark_town</th>\n",
       "      <th>alive</th>\n",
       "      <th>alone</th>\n",
       "    </tr>\n",
       "  </thead>\n",
       "  <tbody>\n",
       "    <tr>\n",
       "      <th>1</th>\n",
       "      <td>1</td>\n",
       "      <td>1</td>\n",
       "      <td>female</td>\n",
       "      <td>38.0</td>\n",
       "      <td>1</td>\n",
       "      <td>0</td>\n",
       "      <td>71.2833</td>\n",
       "      <td>C</td>\n",
       "      <td>First</td>\n",
       "      <td>woman</td>\n",
       "      <td>False</td>\n",
       "      <td>C</td>\n",
       "      <td>Cherbourg</td>\n",
       "      <td>yes</td>\n",
       "      <td>False</td>\n",
       "    </tr>\n",
       "    <tr>\n",
       "      <th>3</th>\n",
       "      <td>1</td>\n",
       "      <td>1</td>\n",
       "      <td>female</td>\n",
       "      <td>35.0</td>\n",
       "      <td>1</td>\n",
       "      <td>0</td>\n",
       "      <td>53.1000</td>\n",
       "      <td>S</td>\n",
       "      <td>First</td>\n",
       "      <td>woman</td>\n",
       "      <td>False</td>\n",
       "      <td>C</td>\n",
       "      <td>Southampton</td>\n",
       "      <td>yes</td>\n",
       "      <td>False</td>\n",
       "    </tr>\n",
       "    <tr>\n",
       "      <th>6</th>\n",
       "      <td>0</td>\n",
       "      <td>1</td>\n",
       "      <td>male</td>\n",
       "      <td>54.0</td>\n",
       "      <td>0</td>\n",
       "      <td>0</td>\n",
       "      <td>51.8625</td>\n",
       "      <td>S</td>\n",
       "      <td>First</td>\n",
       "      <td>man</td>\n",
       "      <td>True</td>\n",
       "      <td>E</td>\n",
       "      <td>Southampton</td>\n",
       "      <td>no</td>\n",
       "      <td>True</td>\n",
       "    </tr>\n",
       "    <tr>\n",
       "      <th>10</th>\n",
       "      <td>1</td>\n",
       "      <td>3</td>\n",
       "      <td>female</td>\n",
       "      <td>4.0</td>\n",
       "      <td>1</td>\n",
       "      <td>1</td>\n",
       "      <td>16.7000</td>\n",
       "      <td>S</td>\n",
       "      <td>Third</td>\n",
       "      <td>child</td>\n",
       "      <td>False</td>\n",
       "      <td>G</td>\n",
       "      <td>Southampton</td>\n",
       "      <td>yes</td>\n",
       "      <td>False</td>\n",
       "    </tr>\n",
       "    <tr>\n",
       "      <th>11</th>\n",
       "      <td>1</td>\n",
       "      <td>1</td>\n",
       "      <td>female</td>\n",
       "      <td>58.0</td>\n",
       "      <td>0</td>\n",
       "      <td>0</td>\n",
       "      <td>26.5500</td>\n",
       "      <td>S</td>\n",
       "      <td>First</td>\n",
       "      <td>woman</td>\n",
       "      <td>False</td>\n",
       "      <td>C</td>\n",
       "      <td>Southampton</td>\n",
       "      <td>yes</td>\n",
       "      <td>True</td>\n",
       "    </tr>\n",
       "    <tr>\n",
       "      <th>...</th>\n",
       "      <td>...</td>\n",
       "      <td>...</td>\n",
       "      <td>...</td>\n",
       "      <td>...</td>\n",
       "      <td>...</td>\n",
       "      <td>...</td>\n",
       "      <td>...</td>\n",
       "      <td>...</td>\n",
       "      <td>...</td>\n",
       "      <td>...</td>\n",
       "      <td>...</td>\n",
       "      <td>...</td>\n",
       "      <td>...</td>\n",
       "      <td>...</td>\n",
       "      <td>...</td>\n",
       "    </tr>\n",
       "    <tr>\n",
       "      <th>871</th>\n",
       "      <td>1</td>\n",
       "      <td>1</td>\n",
       "      <td>female</td>\n",
       "      <td>47.0</td>\n",
       "      <td>1</td>\n",
       "      <td>1</td>\n",
       "      <td>52.5542</td>\n",
       "      <td>S</td>\n",
       "      <td>First</td>\n",
       "      <td>woman</td>\n",
       "      <td>False</td>\n",
       "      <td>D</td>\n",
       "      <td>Southampton</td>\n",
       "      <td>yes</td>\n",
       "      <td>False</td>\n",
       "    </tr>\n",
       "    <tr>\n",
       "      <th>872</th>\n",
       "      <td>0</td>\n",
       "      <td>1</td>\n",
       "      <td>male</td>\n",
       "      <td>33.0</td>\n",
       "      <td>0</td>\n",
       "      <td>0</td>\n",
       "      <td>5.0000</td>\n",
       "      <td>S</td>\n",
       "      <td>First</td>\n",
       "      <td>man</td>\n",
       "      <td>True</td>\n",
       "      <td>B</td>\n",
       "      <td>Southampton</td>\n",
       "      <td>no</td>\n",
       "      <td>True</td>\n",
       "    </tr>\n",
       "    <tr>\n",
       "      <th>879</th>\n",
       "      <td>1</td>\n",
       "      <td>1</td>\n",
       "      <td>female</td>\n",
       "      <td>56.0</td>\n",
       "      <td>0</td>\n",
       "      <td>1</td>\n",
       "      <td>83.1583</td>\n",
       "      <td>C</td>\n",
       "      <td>First</td>\n",
       "      <td>woman</td>\n",
       "      <td>False</td>\n",
       "      <td>C</td>\n",
       "      <td>Cherbourg</td>\n",
       "      <td>yes</td>\n",
       "      <td>False</td>\n",
       "    </tr>\n",
       "    <tr>\n",
       "      <th>887</th>\n",
       "      <td>1</td>\n",
       "      <td>1</td>\n",
       "      <td>female</td>\n",
       "      <td>19.0</td>\n",
       "      <td>0</td>\n",
       "      <td>0</td>\n",
       "      <td>30.0000</td>\n",
       "      <td>S</td>\n",
       "      <td>First</td>\n",
       "      <td>woman</td>\n",
       "      <td>False</td>\n",
       "      <td>B</td>\n",
       "      <td>Southampton</td>\n",
       "      <td>yes</td>\n",
       "      <td>True</td>\n",
       "    </tr>\n",
       "    <tr>\n",
       "      <th>889</th>\n",
       "      <td>1</td>\n",
       "      <td>1</td>\n",
       "      <td>male</td>\n",
       "      <td>26.0</td>\n",
       "      <td>0</td>\n",
       "      <td>0</td>\n",
       "      <td>30.0000</td>\n",
       "      <td>C</td>\n",
       "      <td>First</td>\n",
       "      <td>man</td>\n",
       "      <td>True</td>\n",
       "      <td>C</td>\n",
       "      <td>Cherbourg</td>\n",
       "      <td>yes</td>\n",
       "      <td>True</td>\n",
       "    </tr>\n",
       "  </tbody>\n",
       "</table>\n",
       "<p>182 rows × 15 columns</p>\n",
       "</div>"
      ],
      "text/plain": [
       "     survived  pclass     sex   age  sibsp  parch     fare embarked  class  \\\n",
       "1           1       1  female  38.0      1      0  71.2833        C  First   \n",
       "3           1       1  female  35.0      1      0  53.1000        S  First   \n",
       "6           0       1    male  54.0      0      0  51.8625        S  First   \n",
       "10          1       3  female   4.0      1      1  16.7000        S  Third   \n",
       "11          1       1  female  58.0      0      0  26.5500        S  First   \n",
       "..        ...     ...     ...   ...    ...    ...      ...      ...    ...   \n",
       "871         1       1  female  47.0      1      1  52.5542        S  First   \n",
       "872         0       1    male  33.0      0      0   5.0000        S  First   \n",
       "879         1       1  female  56.0      0      1  83.1583        C  First   \n",
       "887         1       1  female  19.0      0      0  30.0000        S  First   \n",
       "889         1       1    male  26.0      0      0  30.0000        C  First   \n",
       "\n",
       "       who  adult_male deck  embark_town alive  alone  \n",
       "1    woman       False    C    Cherbourg   yes  False  \n",
       "3    woman       False    C  Southampton   yes  False  \n",
       "6      man        True    E  Southampton    no   True  \n",
       "10   child       False    G  Southampton   yes  False  \n",
       "11   woman       False    C  Southampton   yes   True  \n",
       "..     ...         ...  ...          ...   ...    ...  \n",
       "871  woman       False    D  Southampton   yes  False  \n",
       "872    man        True    B  Southampton    no   True  \n",
       "879  woman       False    C    Cherbourg   yes  False  \n",
       "887  woman       False    B  Southampton   yes   True  \n",
       "889    man        True    C    Cherbourg   yes   True  \n",
       "\n",
       "[182 rows x 15 columns]"
      ]
     },
     "execution_count": 2,
     "metadata": {},
     "output_type": "execute_result"
    }
   ],
   "source": [
    "titanic_data # Vemos algunos datos"
   ]
  },
  {
   "cell_type": "code",
   "execution_count": 3,
   "metadata": {},
   "outputs": [],
   "source": [
    "ds=titanic_data.copy() # Hacemos una copia del dataset por seguridad"
   ]
  },
  {
   "cell_type": "code",
   "execution_count": 4,
   "metadata": {},
   "outputs": [
    {
     "data": {
      "text/plain": [
       "survived          int64\n",
       "pclass            int64\n",
       "sex              object\n",
       "age             float64\n",
       "sibsp             int64\n",
       "parch             int64\n",
       "fare            float64\n",
       "embarked         object\n",
       "class          category\n",
       "who              object\n",
       "adult_male         bool\n",
       "deck           category\n",
       "embark_town      object\n",
       "alive            object\n",
       "alone              bool\n",
       "dtype: object"
      ]
     },
     "execution_count": 4,
     "metadata": {},
     "output_type": "execute_result"
    }
   ],
   "source": [
    "ds.dtypes # Vemos los tipos de datos de las columnas"
   ]
  },
  {
   "cell_type": "markdown",
   "metadata": {},
   "source": [
    "### Hipótesis 1: La ratio de hombres solos era significativamente superior a la ratio de mujeres solas"
   ]
  },
  {
   "cell_type": "code",
   "execution_count": 5,
   "metadata": {},
   "outputs": [
    {
     "data": {
      "image/png": "[encoded data removed]",
      "text/plain": [
       "<Figure size 640x480 with 1 Axes>"
      ]
     },
     "metadata": {},
     "output_type": "display_data"
    }
   ],
   "source": [
    "sns.countplot(data=ds, x='sex' , hue='alone')\n",
    "plt.show()"
   ]
  },
  {
   "cell_type": "code",
   "execution_count": 6,
   "metadata": {},
   "outputs": [
    {
     "name": "stdout",
     "output_type": "stream",
     "text": [
      "Chi2: 2.442673073823341 P-value: 0.11807486356916395\n",
      "No podemos rechazar la hipótesis nula de la proporción de hombres y mujeres solitarios es la misma, por lo que no es la misma\n"
     ]
    }
   ],
   "source": [
    "contingency_table = pd.crosstab(ds['sex'], ds['alone'])\n",
    "chi2, p_value, dof, expected = stats.chi2_contingency(contingency_table)\n",
    "print('Chi2:', chi2, 'P-value:', p_value)\n",
    "\n",
    "if p_value < 0.05:\n",
    "    print('Rechazamos la hipótesis nula de que la proporción de hombres y mujeres solitarios es la misma')\n",
    "else:\n",
    "    print('No podemos rechazar la hipótesis nula de la proporción de hombres y mujeres solitarios es la misma, por lo que no es la misma')"
   ]
  },
  {
   "cell_type": "code",
   "execution_count": 7,
   "metadata": {},
   "outputs": [
    {
     "data": {
      "text/html": [
       "<div>\n",
       "<style scoped>\n",
       "    .dataframe tbody tr th:only-of-type {\n",
       "        vertical-align: middle;\n",
       "    }\n",
       "\n",
       "    .dataframe tbody tr th {\n",
       "        vertical-align: top;\n",
       "    }\n",
       "\n",
       "    .dataframe thead th {\n",
       "        text-align: right;\n",
       "    }\n",
       "</style>\n",
       "<table border=\"1\" class=\"dataframe\">\n",
       "  <thead>\n",
       "    <tr style=\"text-align: right;\">\n",
       "      <th>alone</th>\n",
       "      <th>False</th>\n",
       "      <th>True</th>\n",
       "    </tr>\n",
       "    <tr>\n",
       "      <th>sex</th>\n",
       "      <th></th>\n",
       "      <th></th>\n",
       "    </tr>\n",
       "  </thead>\n",
       "  <tbody>\n",
       "    <tr>\n",
       "      <th>female</th>\n",
       "      <td>56</td>\n",
       "      <td>32</td>\n",
       "    </tr>\n",
       "    <tr>\n",
       "      <th>male</th>\n",
       "      <td>48</td>\n",
       "      <td>46</td>\n",
       "    </tr>\n",
       "  </tbody>\n",
       "</table>\n",
       "</div>"
      ],
      "text/plain": [
       "alone   False  True \n",
       "sex                 \n",
       "female     56     32\n",
       "male       48     46"
      ]
     },
     "execution_count": 7,
     "metadata": {},
     "output_type": "execute_result"
    }
   ],
   "source": [
    "contingency_table"
   ]
  },
  {
   "cell_type": "markdown",
   "metadata": {},
   "source": [
    "### Hipótesis 2: La ratio de supervivencia entre las personas que viajaban solas era significativamente superior a la de las que viajaban acompañadas"
   ]
  },
  {
   "cell_type": "code",
   "execution_count": 8,
   "metadata": {},
   "outputs": [
    {
     "data": {
      "image/png": "[encoded data removed]",
      "text/plain": [
       "<Figure size 640x480 with 1 Axes>"
      ]
     },
     "metadata": {},
     "output_type": "display_data"
    }
   ],
   "source": [
    "sns.countplot(data=ds, x='alone' , hue='survived')\n",
    "plt.show()"
   ]
  },
  {
   "cell_type": "code",
   "execution_count": 9,
   "metadata": {},
   "outputs": [
    {
     "name": "stdout",
     "output_type": "stream",
     "text": [
      "Chi2: 1.818766937669377 P-value: 0.17746012166058867\n",
      "No podemos rechazar la hipótesis nula de que la tasa de supervivencia de personas solitarios es la misma\n"
     ]
    }
   ],
   "source": [
    "contingency_table = pd.crosstab(ds['survived'], ds['alone'])\n",
    "chi2, p_value, dof, expected = stats.chi2_contingency(contingency_table)\n",
    "print('Chi2:', chi2, 'P-value:', p_value)\n",
    "\n",
    "if p_value < 0.05:\n",
    "    print('Rechazamos la hipótesis nula de que la tasa de supervivencia de personas solitarios es la misma')\n",
    "else:\n",
    "    print('No podemos rechazar la hipótesis nula de que la tasa de supervivencia de personas solitarios es la misma')"
   ]
  },
  {
   "cell_type": "code",
   "execution_count": 10,
   "metadata": {},
   "outputs": [
    {
     "data": {
      "text/html": [
       "<div>\n",
       "<style scoped>\n",
       "    .dataframe tbody tr th:only-of-type {\n",
       "        vertical-align: middle;\n",
       "    }\n",
       "\n",
       "    .dataframe tbody tr th {\n",
       "        vertical-align: top;\n",
       "    }\n",
       "\n",
       "    .dataframe thead th {\n",
       "        text-align: right;\n",
       "    }\n",
       "</style>\n",
       "<table border=\"1\" class=\"dataframe\">\n",
       "  <thead>\n",
       "    <tr style=\"text-align: right;\">\n",
       "      <th>alone</th>\n",
       "      <th>False</th>\n",
       "      <th>True</th>\n",
       "    </tr>\n",
       "    <tr>\n",
       "      <th>survived</th>\n",
       "      <th></th>\n",
       "      <th></th>\n",
       "    </tr>\n",
       "  </thead>\n",
       "  <tbody>\n",
       "    <tr>\n",
       "      <th>0</th>\n",
       "      <td>29</td>\n",
       "      <td>30</td>\n",
       "    </tr>\n",
       "    <tr>\n",
       "      <th>1</th>\n",
       "      <td>75</td>\n",
       "      <td>48</td>\n",
       "    </tr>\n",
       "  </tbody>\n",
       "</table>\n",
       "</div>"
      ],
      "text/plain": [
       "alone     False  True \n",
       "survived              \n",
       "0            29     30\n",
       "1            75     48"
      ]
     },
     "execution_count": 10,
     "metadata": {},
     "output_type": "execute_result"
    }
   ],
   "source": [
    "contingency_table"
   ]
  },
  {
   "cell_type": "markdown",
   "metadata": {},
   "source": [
    "### Hipótesis 3: Las mujeres en primera clase sobrevivieron significativamente más que las mujeres en otras clases"
   ]
  },
  {
   "cell_type": "code",
   "execution_count": 11,
   "metadata": {},
   "outputs": [],
   "source": [
    "mujeres_ricas = ds[(ds[\"sex\"]==\"female\") & (ds[\"pclass\"]==1)][\"survived\"] \n",
    "# creamos un dataset con todos los datos del ds original donde el sexo es femenino y la clase es 1\n",
    "mujeres_no_ricas = ds[(ds[\"sex\"]==\"female\") & (ds[\"pclass\"]!=1)][\"survived\"]\n",
    "# creamos un dataset con todos los datos del ds original donde el sexo es femenino también y la clase no es 1 (es decir, es 2 o 3)"
   ]
  },
  {
   "cell_type": "code",
   "execution_count": 12,
   "metadata": {},
   "outputs": [
    {
     "data": {
      "text/plain": [
       "1      1\n",
       "3      1\n",
       "11     1\n",
       "52     1\n",
       "88     1\n",
       "      ..\n",
       "853    1\n",
       "862    1\n",
       "871    1\n",
       "879    1\n",
       "887    1\n",
       "Name: survived, Length: 74, dtype: int64"
      ]
     },
     "execution_count": 12,
     "metadata": {},
     "output_type": "execute_result"
    }
   ],
   "source": [
    "mujeres_ricas"
   ]
  },
  {
   "cell_type": "code",
   "execution_count": 13,
   "metadata": {},
   "outputs": [
    {
     "data": {
      "text/plain": [
       "10     1\n",
       "66     1\n",
       "123    1\n",
       "205    0\n",
       "251    0\n",
       "327    1\n",
       "345    1\n",
       "394    1\n",
       "473    1\n",
       "516    1\n",
       "618    1\n",
       "717    1\n",
       "772    0\n",
       "823    1\n",
       "Name: survived, dtype: int64"
      ]
     },
     "execution_count": 13,
     "metadata": {},
     "output_type": "execute_result"
    }
   ],
   "source": [
    "mujeres_no_ricas"
   ]
  },
  {
   "cell_type": "code",
   "execution_count": 14,
   "metadata": {},
   "outputs": [
    {
     "name": "stdout",
     "output_type": "stream",
     "text": [
      "T-estadístico: 2.4161314264733105 P-value: 0.01780199088446324\n",
      "Rechazamos la hipótesis nula de que la ratio de supervivencia entre mujeres de 1 clase fue la misma que entre las mujeres de las demás clases\n"
     ]
    }
   ],
   "source": [
    "t_stats, p_value = stats.ttest_ind(mujeres_ricas, mujeres_no_ricas)\n",
    "print('T-estadístico:', t_stats, 'P-value:', p_value)\n",
    "\n",
    "if p_value < 0.05:\n",
    "    print('Rechazamos la hipótesis nula de que la ratio de supervivencia entre mujeres de 1 clase fue la misma que entre las mujeres de las demás clases')\n",
    "else:\n",
    "    print('No podemos rechazar la hipótesis nula de que la ratio de supervivencia entre mujeres de 1 clase fue la misma que entre las mujeres de las demás clases')"
   ]
  },
  {
   "cell_type": "markdown",
   "metadata": {},
   "source": [
    "### Hipótesis 4: Las mujeres pagaron, de media, significativamente más que los hombres"
   ]
  },
  {
   "cell_type": "code",
   "execution_count": 15,
   "metadata": {},
   "outputs": [],
   "source": [
    "tarifa_mujeres = ds[(ds[\"sex\"]==\"female\")][\"fare\"] \n",
    "# creamos un dataset con todos los datos del ds original donde el sexo es femenino y seleccionamos la columna de tarifas\n",
    "tarifa_hombres = ds[(ds[\"sex\"]==\"male\")][\"fare\"]\n",
    "# creamos un dataset con todos los datos del ds original donde el sexo es masculino y seleccionamos la columna de tarifas"
   ]
  },
  {
   "cell_type": "code",
   "execution_count": 16,
   "metadata": {},
   "outputs": [
    {
     "data": {
      "text/plain": [
       "1      71.2833\n",
       "3      53.1000\n",
       "10     16.7000\n",
       "11     26.5500\n",
       "52     76.7292\n",
       "        ...   \n",
       "853    39.4000\n",
       "862    25.9292\n",
       "871    52.5542\n",
       "879    83.1583\n",
       "887    30.0000\n",
       "Name: fare, Length: 88, dtype: float64"
      ]
     },
     "execution_count": 16,
     "metadata": {},
     "output_type": "execute_result"
    }
   ],
   "source": [
    "tarifa_mujeres"
   ]
  },
  {
   "cell_type": "code",
   "execution_count": 17,
   "metadata": {},
   "outputs": [
    {
     "data": {
      "text/plain": [
       "6       51.8625\n",
       "21      13.0000\n",
       "23      35.5000\n",
       "27     263.0000\n",
       "54      61.9792\n",
       "         ...   \n",
       "806      0.0000\n",
       "857     26.5500\n",
       "867     50.4958\n",
       "872      5.0000\n",
       "889     30.0000\n",
       "Name: fare, Length: 94, dtype: float64"
      ]
     },
     "execution_count": 17,
     "metadata": {},
     "output_type": "execute_result"
    }
   ],
   "source": [
    "tarifa_hombres"
   ]
  },
  {
   "cell_type": "code",
   "execution_count": 18,
   "metadata": {},
   "outputs": [
    {
     "name": "stdout",
     "output_type": "stream",
     "text": [
      "T-estadístico: 1.7297833257895099 P-value: 0.08538316532960831\n",
      "No Rechazamos la hipótesis nula de que las mujeres pagaron la misma tarifa en promedio que los hombres\n"
     ]
    }
   ],
   "source": [
    "t_stats, p_value = stats.ttest_ind(tarifa_mujeres, tarifa_hombres)\n",
    "print('T-estadístico:', t_stats, 'P-value:', p_value)\n",
    "\n",
    "if p_value < 0.05:\n",
    "    print('Rechazamos la hipótesis nula de que las mujeres pagaron la misma tarifa en promedio que los hombres')\n",
    "else:\n",
    "    print('No Rechazamos la hipótesis nula de que las mujeres pagaron la misma tarifa en promedio que los hombres')"
   ]
  },
  {
   "cell_type": "code",
   "execution_count": 19,
   "metadata": {},
   "outputs": [
    {
     "name": "stdout",
     "output_type": "stream",
     "text": [
      "tarifa promedio hombres: 69.4820489361702\n",
      "Tarifa promedio mujeres: 89.0009\n"
     ]
    }
   ],
   "source": [
    "print(f\"tarifa promedio hombres: {tarifa_hombres.mean()}\\nTarifa promedio mujeres: {tarifa_mujeres.mean()}\")"
   ]
  },
  {
   "cell_type": "code",
   "execution_count": 20,
   "metadata": {},
   "outputs": [
    {
     "data": {
      "text/plain": [
       "<Axes: xlabel='fare', ylabel='Count'>"
      ]
     },
     "execution_count": 20,
     "metadata": {},
     "output_type": "execute_result"
    },
    {
     "data": {
      "image/png": "[encoded data removed]",
      "text/plain": [
       "<Figure size 640x480 with 1 Axes>"
      ]
     },
     "metadata": {},
     "output_type": "display_data"
    }
   ],
   "source": [
    "sns.histplot(data=ds, x='fare', hue=\"sex\", kde=True)"
   ]
  },
  {
   "cell_type": "markdown",
   "metadata": {},
   "source": [
    "Quizá con una mayor muestra los resultados cambien, pero con los datos disponibles no hay suficiente evidencia para rechazar la hipótesis nula"
   ]
  },
  {
   "cell_type": "markdown",
   "metadata": {},
   "source": [
    "### Hipótesis 5: Los niños de todas las clases tuvieron misma tasa de sobrevivencia"
   ]
  },
  {
   "cell_type": "code",
   "execution_count": 21,
   "metadata": {},
   "outputs": [],
   "source": [
    "niños_ricos = ds[(ds[\"age\"]<7) & ds[\"pclass\"]==1][\"survived\"]\n",
    "# creamos un ds con los datos de los niños (menores de 7 años) de la clase 1 y seleccionamos la columna de supervivencia\n",
    "niños_no_ricos = ds[(ds[\"age\"]<7) & ds[\"pclass\"]!=1][\"survived\"]\n",
    "# creamos un ds con los datos de los niños (menores de 7 años) de la clase 2 y 3 y seleccionamos la columna de supervivencia"
   ]
  },
  {
   "cell_type": "code",
   "execution_count": 22,
   "metadata": {},
   "outputs": [
    {
     "data": {
      "text/plain": [
       "1      1\n",
       "3      1\n",
       "6      0\n",
       "11     1\n",
       "21     1\n",
       "      ..\n",
       "871    1\n",
       "872    0\n",
       "879    1\n",
       "887    1\n",
       "889    1\n",
       "Name: survived, Length: 176, dtype: int64"
      ]
     },
     "execution_count": 22,
     "metadata": {},
     "output_type": "execute_result"
    }
   ],
   "source": [
    "niños_no_ricos"
   ]
  },
  {
   "cell_type": "code",
   "execution_count": 23,
   "metadata": {},
   "outputs": [
    {
     "data": {
      "text/plain": [
       "10     1\n",
       "205    0\n",
       "297    0\n",
       "305    1\n",
       "445    1\n",
       "751    1\n",
       "Name: survived, dtype: int64"
      ]
     },
     "execution_count": 23,
     "metadata": {},
     "output_type": "execute_result"
    }
   ],
   "source": [
    "niños_ricos"
   ]
  },
  {
   "cell_type": "code",
   "execution_count": 24,
   "metadata": {},
   "outputs": [
    {
     "name": "stdout",
     "output_type": "stream",
     "text": [
      "T-estadístico: -0.04846503888218011 P-value: 0.9613993595688946\n",
      "No Rechazamos la hipótesis nula de que los niños de primera clase tenían la misma ratio de superv. que los demás niños\n"
     ]
    }
   ],
   "source": [
    "t_stats, p_value = stats.ttest_ind(niños_ricos, niños_no_ricos)\n",
    "print('T-estadístico:', t_stats, 'P-value:', p_value)\n",
    "\n",
    "if p_value < 0.05:\n",
    "    print('Rechazamos la hipótesis nula de que los niños de primera clase tenían la misma ratio de superv. que los demás niños')\n",
    "else:\n",
    "    print('No Rechazamos la hipótesis nula de que los niños de primera clase tenían la misma ratio de superv. que los demás niños')"
   ]
  },
  {
   "cell_type": "code",
   "execution_count": 87,
   "metadata": {},
   "outputs": [
    {
     "name": "stdout",
     "output_type": "stream",
     "text": [
      "Ratio de supervivencia de niños ricos: 66.67%\n",
      "Ratio de supervivencia de niños no ricos: 67.61%\n"
     ]
    }
   ],
   "source": [
    "print(f\"Ratio de supervivencia de niños ricos: {round(niños_ricos.mean()*100,2)}%\\nRatio de supervivencia de niños no ricos: {round(niños_no_ricos.mean()*100,2)}%\")"
   ]
  },
  {
   "cell_type": "markdown",
   "metadata": {},
   "source": [
    "### Hipótesis 6: Las personas que embarcaban en Cherbourg tenian una tasa de supervivencia significativamente mayor que en otros puertos"
   ]
  },
  {
   "cell_type": "code",
   "execution_count": 25,
   "metadata": {},
   "outputs": [],
   "source": [
    "cherbourg = ds[ds[\"embarked\"]==\"C\"][\"survived\"]\n",
    "# creamos un ds con los datos de los pasajeros que embarcaron en Cherbourg y seleccionamos la columna de supervivencia\n",
    "no_cherbourg = ds[ds[\"embarked\"]!=\"C\"][\"survived\"]\n",
    "# creamos un ds con los datos de los pasajeros que NO embarcaron en Cherbourg (Queenstown o Southampton) y seleccionamos la columna de supervivencia"
   ]
  },
  {
   "cell_type": "code",
   "execution_count": 26,
   "metadata": {},
   "outputs": [
    {
     "name": "stdout",
     "output_type": "stream",
     "text": [
      "T-estadístico: 1.3449232755367506 P-value: 0.1803421369820683\n",
      "No Rechazamos la hipótesis nula de que los pasajeros de Cherbourg tenían la misma ratio de superv. que los demás pasajeros\n"
     ]
    }
   ],
   "source": [
    "t_stats, p_value = stats.ttest_ind(cherbourg, no_cherbourg)\n",
    "print('T-estadístico:', t_stats, 'P-value:', p_value)\n",
    "\n",
    "if p_value < 0.05:\n",
    "    print('Rechazamos la hipótesis nula de que los pasajeros de Cherbourg tenían la misma ratio de superv. que los demás pasajeros')\n",
    "else:\n",
    "    print('No Rechazamos la hipótesis nula de que los pasajeros de Cherbourg tenían la misma ratio de superv. que los demás pasajeros')"
   ]
  },
  {
   "cell_type": "markdown",
   "metadata": {},
   "source": [
    "### Hipótesis 7: Los pasajeros de primera clase tuvieron una ratio de supervivencia significativamente superior que los demás."
   ]
  },
  {
   "cell_type": "code",
   "execution_count": 27,
   "metadata": {},
   "outputs": [
    {
     "data": {
      "text/plain": [
       "<Axes: xlabel='pclass', ylabel='count'>"
      ]
     },
     "execution_count": 27,
     "metadata": {},
     "output_type": "execute_result"
    },
    {
     "data": {
      "image/png": "[encoded data removed]",
      "text/plain": [
       "<Figure size 640x480 with 1 Axes>"
      ]
     },
     "metadata": {},
     "output_type": "display_data"
    }
   ],
   "source": [
    "sns.countplot(data=ds, x=\"pclass\", hue=\"survived\")"
   ]
  },
  {
   "cell_type": "markdown",
   "metadata": {},
   "source": [
    "#### Test ANOVA"
   ]
  },
  {
   "cell_type": "code",
   "execution_count": 103,
   "metadata": {},
   "outputs": [
    {
     "name": "stdout",
     "output_type": "stream",
     "text": [
      "Estadístico: 1.3449232755367506 P-value: 0.29478423581419555\n",
      "No Rechazamos la hipótesis nula, por lo que la ratio de supervivencia no difiere significativamente según la clase del pasajero\n"
     ]
    }
   ],
   "source": [
    "import numpy as np\n",
    "from scipy.stats import f_oneway\n",
    "\n",
    "# Generamos 3 datasets con la supervivencia de los pasajeros de cada clase\n",
    "data1 = ds[ds[\"pclass\"]==1][\"survived\"]\n",
    "data2 = ds[ds[\"pclass\"]==2][\"survived\"]\n",
    "data3 = ds[ds[\"pclass\"]==3][\"survived\"]\n",
    "\n",
    "# Realizamos un test ANOVA (H0: todos los grupos tienen la misma media)\n",
    "statistic, p_value = f_oneway(data1, data2, data3)\n",
    "\n",
    "print('Estadístico:', t_stats, 'P-value:', p_value)\n",
    "\n",
    "if p_value < 0.05:\n",
    "    print('Rechazamos la hipótesis nula de que los pasajeros de todas las clases tienen la misma ratio de superv. O dicho de otra forma, la ratio de supervivencia sí difiere significativamente según la clase del pasajero entre, al menos, 2 de las clases, pero no podemos desglosar los datos para saber cuál es la clase que difiere de las demás')\n",
    "else:\n",
    "    print('No Rechazamos la hipótesis nula, por lo que la ratio de supervivencia no difiere significativamente según la clase del pasajero')"
   ]
  },
  {
   "cell_type": "markdown",
   "metadata": {},
   "source": [
    "#### Test con T-statistic"
   ]
  },
  {
   "cell_type": "code",
   "execution_count": 89,
   "metadata": {},
   "outputs": [
    {
     "name": "stdout",
     "output_type": "stream",
     "text": [
      "T-estadístico: 1.3449232755367506 P-value: 0.1803421369820683\n",
      "No Rechazamos la hipótesis nula de que los pasajeros de primera clase tuvieron la misma ratio de supervivencia que TODOS LOS DEMÁS\n"
     ]
    }
   ],
   "source": [
    "data1 = ds[ds[\"pclass\"]==1][\"survived\"]\n",
    "data23 = ds[ds[\"pclass\"]!=1][\"survived\"]\n",
    "\n",
    "t_stats, p_value = stats.ttest_ind(cherbourg, no_cherbourg)\n",
    "print('T-estadístico:', t_stats, 'P-value:', p_value)\n",
    "\n",
    "if p_value < 0.05:\n",
    "    print('Rechazamos la hipótesis nula de que los pasajeros de primera clase tuvieron la misma ratio de supervivencia que TODOS los demás')\n",
    "else:\n",
    "    print('No Rechazamos la hipótesis nula de que los pasajeros de primera clase tuvieron la misma ratio de supervivencia que TODOS los demás')"
   ]
  },
  {
   "cell_type": "markdown",
   "metadata": {},
   "source": [
    "#### Test con $\\chi^2$ (No puede hacerse porque no tienen la misma longitud los datasets como para hacer una tabla)"
   ]
  },
  {
   "cell_type": "code",
   "execution_count": 29,
   "metadata": {},
   "outputs": [],
   "source": [
    "# No va a funcionar porque los grupos no tienen la misma cantidad de elementos\n",
    "import numpy as np\n",
    "from scipy.stats import chi2_contingency\n",
    "\n",
    "# Asumiendo que data1, 2 y 3 son arrays con recuentos o frecuencias de datos categóricos\n",
    "# Combina los datasets en una tabla de contingencia\n",
    "try:\n",
    "    contingency_table = np.array([data1, data2, data3])\n",
    "\n",
    "# Hacemos el test chi cuadrado (H0: todos los grupos tienen la misma ratio de supervivencia)\n",
    "    chi2, p_value, dof, expected = chi2_contingency(contingency_table)\n",
    "\n",
    "    print('Estadístico Chi^2:', t_stats, 'P-value:', p_value)\n",
    "\n",
    "    if p_value < 0.05:\n",
    "        print('Rechazamos la hipótesis nula de que los pasajeros de todas las clases tienen la misma ratio de superv. O dicho de otra forma, la ratio de supervivencia sí difiere significativamente según la clase del pasajero entre, al menos, 2 de las clases, pero no podemos desglosar los datos para saber cuáles')\n",
    "    else:\n",
    "        print('No Rechazamos la hipótesis nula, por lo que la ratio de supervivencia no difiere significativamente según la clase del pasajero')\n",
    "except:\n",
    "    pass"
   ]
  },
  {
   "cell_type": "markdown",
   "metadata": {},
   "source": [
    "### Hipótesis 8: Las mujeres y niños tuvieron tasas de supervivencia significativamente superiores a los hombres."
   ]
  },
  {
   "cell_type": "code",
   "execution_count": 30,
   "metadata": {},
   "outputs": [],
   "source": [
    "hombres = ds[(ds[\"sex\"]==\"male\") & (ds[\"age\"]>=7)][\"survived\"]  #Varones de más de 7 años\n",
    "mujYniñ = ds[~((ds[\"sex\"]==\"male\") & (ds[\"age\"]>=7))][\"survived\"] # Lo contrario a varones de mas de 7 años (mujeres o menores de 7 años)"
   ]
  },
  {
   "cell_type": "code",
   "execution_count": 31,
   "metadata": {},
   "outputs": [],
   "source": [
    "women_and_children = ds[(ds[\"sex\"] == \"female\") | (ds[\"age\"] < 7)][\"survived\"] # Mujeres O menores de 7 años"
   ]
  },
  {
   "cell_type": "code",
   "execution_count": 32,
   "metadata": {},
   "outputs": [
    {
     "data": {
      "text/plain": [
       "True    94\n",
       "Name: survived, dtype: int64"
      ]
     },
     "execution_count": 32,
     "metadata": {},
     "output_type": "execute_result"
    }
   ],
   "source": [
    "(mujYniñ == women_and_children).value_counts()"
   ]
  },
  {
   "cell_type": "markdown",
   "metadata": {},
   "source": [
    "Como se ve, es lo mismo"
   ]
  },
  {
   "cell_type": "code",
   "execution_count": 33,
   "metadata": {},
   "outputs": [
    {
     "data": {
      "text/plain": [
       "6      0\n",
       "21     1\n",
       "23     1\n",
       "27     0\n",
       "54     0\n",
       "      ..\n",
       "806    0\n",
       "857    1\n",
       "867    0\n",
       "872    0\n",
       "889    1\n",
       "Name: survived, Length: 88, dtype: int64"
      ]
     },
     "execution_count": 33,
     "metadata": {},
     "output_type": "execute_result"
    }
   ],
   "source": [
    "hombres"
   ]
  },
  {
   "cell_type": "code",
   "execution_count": 34,
   "metadata": {},
   "outputs": [
    {
     "data": {
      "text/plain": [
       "1      1\n",
       "3      1\n",
       "10     1\n",
       "11     1\n",
       "52     1\n",
       "      ..\n",
       "853    1\n",
       "862    1\n",
       "871    1\n",
       "879    1\n",
       "887    1\n",
       "Name: survived, Length: 94, dtype: int64"
      ]
     },
     "execution_count": 34,
     "metadata": {},
     "output_type": "execute_result"
    }
   ],
   "source": [
    "mujYniñ"
   ]
  },
  {
   "cell_type": "code",
   "execution_count": 36,
   "metadata": {},
   "outputs": [
    {
     "name": "stdout",
     "output_type": "stream",
     "text": [
      "T-estadístico: -9.425790911993124 P-value: 2.1315570153159397e-17\n",
      "Rechazamos la hipótesis nula de que los hombres y mujeres/niños tienen la misma ratio de supervivencia\n"
     ]
    }
   ],
   "source": [
    "t_stats, p_value = stats.ttest_ind(hombres, mujYniñ)\n",
    "print('T-estadístico:', t_stats, 'P-value:', p_value)\n",
    "\n",
    "# H0: hombres y mujeres/niños tienen la misma ratio de supervivencia\n",
    "\n",
    "if p_value < 0.05:\n",
    "    print('Rechazamos la hipótesis nula de que los hombres y mujeres/niños tienen la misma ratio de supervivencia')\n",
    "else:\n",
    "    print('NO Rechazamos la hipótesis nula de que los hombres y mujeres/niños tienen la misma ratio de supervivencia')"
   ]
  },
  {
   "cell_type": "code",
   "execution_count": 35,
   "metadata": {},
   "outputs": [
    {
     "name": "stdout",
     "output_type": "stream",
     "text": [
      "Superv. hombres: 39.77% vs superv. mujeres y niños: 93.62%\n"
     ]
    }
   ],
   "source": [
    "print(f\"Superv. hombres: {round(hombres.mean()*100,2)}% vs superv. mujeres y niños: {round(mujYniñ.mean()*100,2)}%\")"
   ]
  },
  {
   "cell_type": "markdown",
   "metadata": {},
   "source": [
    "### Hipótesis 9: La tarifa del billete está significativamente correlacionada con la probabilidad de supervivencia."
   ]
  },
  {
   "cell_type": "code",
   "execution_count": 37,
   "metadata": {},
   "outputs": [
    {
     "data": {
      "image/png": "[encoded data removed]",
      "text/plain": [
       "<Figure size 640x480 with 1 Axes>"
      ]
     },
     "metadata": {},
     "output_type": "display_data"
    }
   ],
   "source": [
    "fig = sns.boxplot(data=ds, x=\"survived\", y=\"fare\", hue=\"survived\")"
   ]
  },
  {
   "cell_type": "code",
   "execution_count": 38,
   "metadata": {},
   "outputs": [],
   "source": [
    "fare_supervivientes = ds[ds[\"survived\"]==1][\"fare\"]\n",
    "fare_no_supervivientes = ds[ds[\"survived\"]==0][\"fare\"]"
   ]
  },
  {
   "cell_type": "code",
   "execution_count": 39,
   "metadata": {},
   "outputs": [
    {
     "data": {
      "text/plain": [
       "1      71.2833\n",
       "3      53.1000\n",
       "10     16.7000\n",
       "11     26.5500\n",
       "21     13.0000\n",
       "        ...   \n",
       "862    25.9292\n",
       "871    52.5542\n",
       "879    83.1583\n",
       "887    30.0000\n",
       "889    30.0000\n",
       "Name: fare, Length: 123, dtype: float64"
      ]
     },
     "execution_count": 39,
     "metadata": {},
     "output_type": "execute_result"
    }
   ],
   "source": [
    "fare_supervivientes"
   ]
  },
  {
   "cell_type": "code",
   "execution_count": 40,
   "metadata": {},
   "outputs": [
    {
     "data": {
      "text/plain": [
       "6       51.8625\n",
       "27     263.0000\n",
       "54      61.9792\n",
       "62      83.4750\n",
       "75       7.6500\n",
       "92      61.1750\n",
       "96      34.6542\n",
       "102     77.2875\n",
       "110     52.0000\n",
       "118    247.5208\n",
       "124     77.2875\n",
       "137     53.1000\n",
       "139     79.2000\n",
       "148     26.0000\n",
       "170     33.5000\n",
       "174     30.6958\n",
       "177     28.7125\n",
       "205     10.4625\n",
       "245     90.0000\n",
       "251     10.4625\n",
       "252     26.5500\n",
       "262     79.6500\n",
       "263      0.0000\n",
       "273     29.7000\n",
       "292     12.8750\n",
       "297    151.5500\n",
       "331     28.5000\n",
       "332    153.4625\n",
       "336     66.6000\n",
       "377    211.5000\n",
       "434     55.9000\n",
       "438    263.0000\n",
       "452     27.7500\n",
       "456     26.5500\n",
       "462     38.5000\n",
       "487     29.7000\n",
       "492     30.5000\n",
       "498    151.5500\n",
       "505    108.9000\n",
       "515     34.0208\n",
       "536     26.5500\n",
       "544    106.4250\n",
       "583     40.1250\n",
       "625     32.3208\n",
       "659    113.2750\n",
       "662     25.5875\n",
       "671     52.0000\n",
       "698    110.8833\n",
       "699      7.6500\n",
       "715      7.6500\n",
       "741     78.8500\n",
       "745     71.0000\n",
       "748     53.1000\n",
       "772     10.5000\n",
       "782     30.0000\n",
       "789     79.2000\n",
       "806      0.0000\n",
       "867     50.4958\n",
       "872      5.0000\n",
       "Name: fare, dtype: float64"
      ]
     },
     "execution_count": 40,
     "metadata": {},
     "output_type": "execute_result"
    }
   ],
   "source": [
    "fare_no_supervivientes"
   ]
  },
  {
   "cell_type": "code",
   "execution_count": 41,
   "metadata": {},
   "outputs": [
    {
     "data": {
      "text/plain": [
       "count     59.000000\n",
       "mean      64.532131\n",
       "std       62.108090\n",
       "min        0.000000\n",
       "25%       27.150000\n",
       "50%       50.495800\n",
       "75%       79.200000\n",
       "max      263.000000\n",
       "Name: fare, dtype: float64"
      ]
     },
     "execution_count": 41,
     "metadata": {},
     "output_type": "execute_result"
    }
   ],
   "source": [
    "fare_no_supervivientes.describe()"
   ]
  },
  {
   "cell_type": "code",
   "execution_count": 42,
   "metadata": {},
   "outputs": [
    {
     "data": {
      "text/plain": [
       "count    123.000000\n",
       "mean      85.821107\n",
       "std       81.843522\n",
       "min        8.050000\n",
       "25%       30.500000\n",
       "50%       69.300000\n",
       "75%       93.500000\n",
       "max      512.329200\n",
       "Name: fare, dtype: float64"
      ]
     },
     "execution_count": 42,
     "metadata": {},
     "output_type": "execute_result"
    }
   ],
   "source": [
    "fare_supervivientes.describe()"
   ]
  },
  {
   "cell_type": "code",
   "execution_count": 43,
   "metadata": {},
   "outputs": [
    {
     "name": "stdout",
     "output_type": "stream",
     "text": [
      "T-estadístico: 1.7677591048731336 P-value: 0.0787954213542355\n",
      "No Rechazamos la hipótesis nula de que los supervivientes pagaron en promedio la misma tarifa que los que no sobrevivieron\n"
     ]
    }
   ],
   "source": [
    "t_stats, p_value = stats.ttest_ind(fare_supervivientes, fare_no_supervivientes)\n",
    "print('T-estadístico:', t_stats, 'P-value:', p_value)\n",
    "\n",
    "if p_value < 0.05:\n",
    "    print('Rechazamos la hipótesis nula de que los supervivientes pagaron en promedio la misma tarifa que los que no sobrevivieron')\n",
    "else:\n",
    "    print('No Rechazamos la hipótesis nula de que los supervivientes pagaron en promedio la misma tarifa que los que no sobrevivieron')\n"
   ]
  },
  {
   "cell_type": "code",
   "execution_count": 92,
   "metadata": {},
   "outputs": [
    {
     "name": "stdout",
     "output_type": "stream",
     "text": [
      "Tarifa promedio supervivientes: 85.82\n",
      "Tarifa promedio no supervivientes: 64.53\n"
     ]
    }
   ],
   "source": [
    "print(f\"Tarifa promedio supervivientes: {round(fare_supervivientes.mean(),2)}\\nTarifa promedio no supervivientes: {round(fare_no_supervivientes.mean(),2)}\")"
   ]
  },
  {
   "cell_type": "markdown",
   "metadata": {},
   "source": [
    "Con más datos, este resultado podría cambiar"
   ]
  },
  {
   "cell_type": "markdown",
   "metadata": {},
   "source": [
    "### Hipótesis 10: Los pasajeros de mayor edad tenían una probabilidad significativamente menor de sobrevivir."
   ]
  },
  {
   "cell_type": "code",
   "execution_count": 44,
   "metadata": {},
   "outputs": [
    {
     "data": {
      "text/plain": [
       "count    182.000000\n",
       "mean      35.623187\n",
       "std       15.671615\n",
       "min        0.920000\n",
       "25%       24.000000\n",
       "50%       36.000000\n",
       "75%       47.750000\n",
       "max       80.000000\n",
       "Name: age, dtype: float64"
      ]
     },
     "execution_count": 44,
     "metadata": {},
     "output_type": "execute_result"
    }
   ],
   "source": [
    "ds[\"age\"].describe() # dividimos la población en 2 grupos: menores de 36 años y mayores de 36 años, para dividir la muestra en 2 de mismo tamaño"
   ]
  },
  {
   "cell_type": "code",
   "execution_count": 45,
   "metadata": {},
   "outputs": [],
   "source": [
    "mayores_36 = ds[ds[\"age\"]>=36][\"survived\"] # Con la igualdad aquí la muestra se divide más equitativamente\n",
    "menores_36 = ds[ds[\"age\"]<36][\"survived\"] # En caso contrario se divide en una ratio 81-101"
   ]
  },
  {
   "cell_type": "code",
   "execution_count": 46,
   "metadata": {},
   "outputs": [
    {
     "data": {
      "text/plain": [
       "1      1\n",
       "6      0\n",
       "11     1\n",
       "52     1\n",
       "54     0\n",
       "      ..\n",
       "835    1\n",
       "857    1\n",
       "862    1\n",
       "871    1\n",
       "879    1\n",
       "Name: survived, Length: 92, dtype: int64"
      ]
     },
     "execution_count": 46,
     "metadata": {},
     "output_type": "execute_result"
    }
   ],
   "source": [
    "mayores_36"
   ]
  },
  {
   "cell_type": "code",
   "execution_count": 47,
   "metadata": {},
   "outputs": [
    {
     "data": {
      "text/plain": [
       "3      1\n",
       "10     1\n",
       "21     1\n",
       "23     1\n",
       "27     0\n",
       "      ..\n",
       "853    1\n",
       "867    0\n",
       "872    0\n",
       "887    1\n",
       "889    1\n",
       "Name: survived, Length: 90, dtype: int64"
      ]
     },
     "execution_count": 47,
     "metadata": {},
     "output_type": "execute_result"
    }
   ],
   "source": [
    "menores_36"
   ]
  },
  {
   "cell_type": "code",
   "execution_count": 48,
   "metadata": {},
   "outputs": [
    {
     "name": "stdout",
     "output_type": "stream",
     "text": [
      "T-estadístico: -3.301006657630406 P-value: 0.001161659580800739\n",
      "Rechazamos la hipótesis nula de que los menores de 36 años tenían la misma ratio de supervivencia que los mayores de 36 años\n"
     ]
    }
   ],
   "source": [
    "t_stats, p_value = stats.ttest_ind(mayores_36, menores_36)\n",
    "print('T-estadístico:', t_stats, 'P-value:', p_value)\n",
    "\n",
    "if p_value < 0.05:\n",
    "    print('Rechazamos la hipótesis nula de que los menores de 36 años tenían la misma ratio de supervivencia que los mayores de 36 años')\t\n",
    "else:\n",
    "    print('NO Rechazamos la hipótesis nula de que los menores de 36 años tenían la misma ratio de supervivencia que los mayores de 36 años')"
   ]
  },
  {
   "cell_type": "code",
   "execution_count": 93,
   "metadata": {},
   "outputs": [
    {
     "name": "stdout",
     "output_type": "stream",
     "text": [
      "La ratio de supervivencia de los menores de 36 años fue del 78.89% y la de los mayores de 36 años fue del 56.52%\n"
     ]
    }
   ],
   "source": [
    "print(f\"La ratio de supervivencia de los menores de 36 años fue del {round(menores_36.mean()*100,2)}% y la de los mayores de 36 años fue del {round(mayores_36.mean()*100,2)}%\")"
   ]
  },
  {
   "cell_type": "markdown",
   "metadata": {},
   "source": [
    "### Hipótesis 11: Los hombres que pagaron más por su boleto tuvieron una tasa de supervivencia significativamente mayor que los que pagaron menos"
   ]
  },
  {
   "cell_type": "code",
   "execution_count": 49,
   "metadata": {},
   "outputs": [],
   "source": [
    "dhombres = ds[ds[\"sex\"]==\"male\"]"
   ]
  },
  {
   "cell_type": "code",
   "execution_count": 50,
   "metadata": {},
   "outputs": [
    {
     "data": {
      "text/html": [
       "<div>\n",
       "<style scoped>\n",
       "    .dataframe tbody tr th:only-of-type {\n",
       "        vertical-align: middle;\n",
       "    }\n",
       "\n",
       "    .dataframe tbody tr th {\n",
       "        vertical-align: top;\n",
       "    }\n",
       "\n",
       "    .dataframe thead th {\n",
       "        text-align: right;\n",
       "    }\n",
       "</style>\n",
       "<table border=\"1\" class=\"dataframe\">\n",
       "  <thead>\n",
       "    <tr style=\"text-align: right;\">\n",
       "      <th></th>\n",
       "      <th>count</th>\n",
       "      <th>mean</th>\n",
       "      <th>std</th>\n",
       "      <th>min</th>\n",
       "      <th>25%</th>\n",
       "      <th>50%</th>\n",
       "      <th>75%</th>\n",
       "      <th>max</th>\n",
       "    </tr>\n",
       "  </thead>\n",
       "  <tbody>\n",
       "    <tr>\n",
       "      <th>survived</th>\n",
       "      <td>94.0</td>\n",
       "      <td>0.436170</td>\n",
       "      <td>0.498568</td>\n",
       "      <td>0.00</td>\n",
       "      <td>0.00</td>\n",
       "      <td>0.00000</td>\n",
       "      <td>1.0</td>\n",
       "      <td>1.0000</td>\n",
       "    </tr>\n",
       "    <tr>\n",
       "      <th>pclass</th>\n",
       "      <td>94.0</td>\n",
       "      <td>1.170213</td>\n",
       "      <td>0.500286</td>\n",
       "      <td>1.00</td>\n",
       "      <td>1.00</td>\n",
       "      <td>1.00000</td>\n",
       "      <td>1.0</td>\n",
       "      <td>3.0000</td>\n",
       "    </tr>\n",
       "    <tr>\n",
       "      <th>age</th>\n",
       "      <td>94.0</td>\n",
       "      <td>38.382128</td>\n",
       "      <td>16.503731</td>\n",
       "      <td>0.92</td>\n",
       "      <td>28.00</td>\n",
       "      <td>37.00000</td>\n",
       "      <td>49.0</td>\n",
       "      <td>80.0000</td>\n",
       "    </tr>\n",
       "    <tr>\n",
       "      <th>sibsp</th>\n",
       "      <td>94.0</td>\n",
       "      <td>0.404255</td>\n",
       "      <td>0.592410</td>\n",
       "      <td>0.00</td>\n",
       "      <td>0.00</td>\n",
       "      <td>0.00000</td>\n",
       "      <td>1.0</td>\n",
       "      <td>3.0000</td>\n",
       "    </tr>\n",
       "    <tr>\n",
       "      <th>parch</th>\n",
       "      <td>94.0</td>\n",
       "      <td>0.414894</td>\n",
       "      <td>0.753623</td>\n",
       "      <td>0.00</td>\n",
       "      <td>0.00</td>\n",
       "      <td>0.00000</td>\n",
       "      <td>1.0</td>\n",
       "      <td>4.0000</td>\n",
       "    </tr>\n",
       "    <tr>\n",
       "      <th>fare</th>\n",
       "      <td>94.0</td>\n",
       "      <td>69.482049</td>\n",
       "      <td>83.379823</td>\n",
       "      <td>0.00</td>\n",
       "      <td>26.85</td>\n",
       "      <td>51.93125</td>\n",
       "      <td>79.2</td>\n",
       "      <td>512.3292</td>\n",
       "    </tr>\n",
       "  </tbody>\n",
       "</table>\n",
       "</div>"
      ],
      "text/plain": [
       "          count       mean        std   min    25%       50%   75%       max\n",
       "survived   94.0   0.436170   0.498568  0.00   0.00   0.00000   1.0    1.0000\n",
       "pclass     94.0   1.170213   0.500286  1.00   1.00   1.00000   1.0    3.0000\n",
       "age        94.0  38.382128  16.503731  0.92  28.00  37.00000  49.0   80.0000\n",
       "sibsp      94.0   0.404255   0.592410  0.00   0.00   0.00000   1.0    3.0000\n",
       "parch      94.0   0.414894   0.753623  0.00   0.00   0.00000   1.0    4.0000\n",
       "fare       94.0  69.482049  83.379823  0.00  26.85  51.93125  79.2  512.3292"
      ]
     },
     "execution_count": 50,
     "metadata": {},
     "output_type": "execute_result"
    }
   ],
   "source": [
    "dhombres.describe().T # La fare promedio de los hombres es de 51.93125 "
   ]
  },
  {
   "cell_type": "code",
   "execution_count": 51,
   "metadata": {},
   "outputs": [],
   "source": [
    "hombres_pagos_altos = dhombres[dhombres[\"fare\"] > 51.93125][\"survived\"] # En este caso la igualdad se puede poner en cualquier lado\n",
    "hombres_pagos_bajos = dhombres[dhombres[\"fare\"] <= 51.93125][\"survived\"] # que la muestra se dividirá al centro"
   ]
  },
  {
   "cell_type": "code",
   "execution_count": 52,
   "metadata": {},
   "outputs": [
    {
     "data": {
      "text/plain": [
       "count    47.000000\n",
       "mean      0.446809\n",
       "std       0.502538\n",
       "min       0.000000\n",
       "25%       0.000000\n",
       "50%       0.000000\n",
       "75%       1.000000\n",
       "max       1.000000\n",
       "Name: survived, dtype: float64"
      ]
     },
     "execution_count": 52,
     "metadata": {},
     "output_type": "execute_result"
    }
   ],
   "source": [
    "hombres_pagos_altos.describe()"
   ]
  },
  {
   "cell_type": "code",
   "execution_count": 53,
   "metadata": {},
   "outputs": [
    {
     "data": {
      "text/plain": [
       "count    47.000000\n",
       "mean      0.425532\n",
       "std       0.499769\n",
       "min       0.000000\n",
       "25%       0.000000\n",
       "50%       0.000000\n",
       "75%       1.000000\n",
       "max       1.000000\n",
       "Name: survived, dtype: float64"
      ]
     },
     "execution_count": 53,
     "metadata": {},
     "output_type": "execute_result"
    }
   ],
   "source": [
    "hombres_pagos_bajos.describe()"
   ]
  },
  {
   "cell_type": "code",
   "execution_count": 54,
   "metadata": {},
   "outputs": [
    {
     "name": "stdout",
     "output_type": "stream",
     "text": [
      "T-estadístico: 0.20580882974613413 P-value: 0.8373949788694781\n",
      "NO Rechazamos la hipótesis nula de que, de media, los hombres que más pagaron tienen la misma ratio de supervivencia que los que menos pagaron\n"
     ]
    }
   ],
   "source": [
    "t_stats, p_value = stats.ttest_ind(hombres_pagos_altos, hombres_pagos_bajos)\n",
    "print('T-estadístico:', t_stats, 'P-value:', p_value)\n",
    "\n",
    "if p_value < 0.05:\n",
    "    print('Rechazamos la hipótesis nula de que, de media, los hombres que más pagaron tienen la misma ratio de supervivencia que los que menos pagaron')\t\n",
    "else:\n",
    "    print('NO Rechazamos la hipótesis nula de que, de media, los hombres que más pagaron tienen la misma ratio de supervivencia que los que menos pagaron')"
   ]
  },
  {
   "cell_type": "code",
   "execution_count": 94,
   "metadata": {},
   "outputs": [
    {
     "name": "stdout",
     "output_type": "stream",
     "text": [
      "La ratio de supervivencia de los hombres que más pagaron fue del 44.68% y la de los que menos pagaron fue del 42.55%\n"
     ]
    }
   ],
   "source": [
    "print(f\"La ratio de supervivencia de los hombres que más pagaron fue del {round(hombres_pagos_altos.mean()*100,2)}% y la de los que menos pagaron fue del {round(hombres_pagos_bajos.mean()*100,2)}%\")"
   ]
  },
  {
   "cell_type": "markdown",
   "metadata": {},
   "source": [
    "### Hipótesis 12: Los grupos familiares pequeños tenian una tasa de supervivencia significativamente menor que las familias numerosas"
   ]
  },
  {
   "cell_type": "code",
   "execution_count": 55,
   "metadata": {},
   "outputs": [
    {
     "data": {
      "text/html": [
       "<div>\n",
       "<style scoped>\n",
       "    .dataframe tbody tr th:only-of-type {\n",
       "        vertical-align: middle;\n",
       "    }\n",
       "\n",
       "    .dataframe tbody tr th {\n",
       "        vertical-align: top;\n",
       "    }\n",
       "\n",
       "    .dataframe thead th {\n",
       "        text-align: right;\n",
       "    }\n",
       "</style>\n",
       "<table border=\"1\" class=\"dataframe\">\n",
       "  <thead>\n",
       "    <tr style=\"text-align: right;\">\n",
       "      <th></th>\n",
       "      <th>survived</th>\n",
       "      <th>pclass</th>\n",
       "      <th>sex</th>\n",
       "      <th>age</th>\n",
       "      <th>sibsp</th>\n",
       "      <th>parch</th>\n",
       "      <th>fare</th>\n",
       "      <th>embarked</th>\n",
       "      <th>class</th>\n",
       "      <th>who</th>\n",
       "      <th>adult_male</th>\n",
       "      <th>deck</th>\n",
       "      <th>embark_town</th>\n",
       "      <th>alive</th>\n",
       "      <th>alone</th>\n",
       "      <th>family_size</th>\n",
       "    </tr>\n",
       "  </thead>\n",
       "  <tbody>\n",
       "    <tr>\n",
       "      <th>1</th>\n",
       "      <td>1</td>\n",
       "      <td>1</td>\n",
       "      <td>female</td>\n",
       "      <td>38.0</td>\n",
       "      <td>1</td>\n",
       "      <td>0</td>\n",
       "      <td>71.2833</td>\n",
       "      <td>C</td>\n",
       "      <td>First</td>\n",
       "      <td>woman</td>\n",
       "      <td>False</td>\n",
       "      <td>C</td>\n",
       "      <td>Cherbourg</td>\n",
       "      <td>yes</td>\n",
       "      <td>False</td>\n",
       "      <td>2</td>\n",
       "    </tr>\n",
       "    <tr>\n",
       "      <th>3</th>\n",
       "      <td>1</td>\n",
       "      <td>1</td>\n",
       "      <td>female</td>\n",
       "      <td>35.0</td>\n",
       "      <td>1</td>\n",
       "      <td>0</td>\n",
       "      <td>53.1000</td>\n",
       "      <td>S</td>\n",
       "      <td>First</td>\n",
       "      <td>woman</td>\n",
       "      <td>False</td>\n",
       "      <td>C</td>\n",
       "      <td>Southampton</td>\n",
       "      <td>yes</td>\n",
       "      <td>False</td>\n",
       "      <td>2</td>\n",
       "    </tr>\n",
       "    <tr>\n",
       "      <th>6</th>\n",
       "      <td>0</td>\n",
       "      <td>1</td>\n",
       "      <td>male</td>\n",
       "      <td>54.0</td>\n",
       "      <td>0</td>\n",
       "      <td>0</td>\n",
       "      <td>51.8625</td>\n",
       "      <td>S</td>\n",
       "      <td>First</td>\n",
       "      <td>man</td>\n",
       "      <td>True</td>\n",
       "      <td>E</td>\n",
       "      <td>Southampton</td>\n",
       "      <td>no</td>\n",
       "      <td>True</td>\n",
       "      <td>1</td>\n",
       "    </tr>\n",
       "    <tr>\n",
       "      <th>10</th>\n",
       "      <td>1</td>\n",
       "      <td>3</td>\n",
       "      <td>female</td>\n",
       "      <td>4.0</td>\n",
       "      <td>1</td>\n",
       "      <td>1</td>\n",
       "      <td>16.7000</td>\n",
       "      <td>S</td>\n",
       "      <td>Third</td>\n",
       "      <td>child</td>\n",
       "      <td>False</td>\n",
       "      <td>G</td>\n",
       "      <td>Southampton</td>\n",
       "      <td>yes</td>\n",
       "      <td>False</td>\n",
       "      <td>3</td>\n",
       "    </tr>\n",
       "    <tr>\n",
       "      <th>11</th>\n",
       "      <td>1</td>\n",
       "      <td>1</td>\n",
       "      <td>female</td>\n",
       "      <td>58.0</td>\n",
       "      <td>0</td>\n",
       "      <td>0</td>\n",
       "      <td>26.5500</td>\n",
       "      <td>S</td>\n",
       "      <td>First</td>\n",
       "      <td>woman</td>\n",
       "      <td>False</td>\n",
       "      <td>C</td>\n",
       "      <td>Southampton</td>\n",
       "      <td>yes</td>\n",
       "      <td>True</td>\n",
       "      <td>1</td>\n",
       "    </tr>\n",
       "    <tr>\n",
       "      <th>...</th>\n",
       "      <td>...</td>\n",
       "      <td>...</td>\n",
       "      <td>...</td>\n",
       "      <td>...</td>\n",
       "      <td>...</td>\n",
       "      <td>...</td>\n",
       "      <td>...</td>\n",
       "      <td>...</td>\n",
       "      <td>...</td>\n",
       "      <td>...</td>\n",
       "      <td>...</td>\n",
       "      <td>...</td>\n",
       "      <td>...</td>\n",
       "      <td>...</td>\n",
       "      <td>...</td>\n",
       "      <td>...</td>\n",
       "    </tr>\n",
       "    <tr>\n",
       "      <th>871</th>\n",
       "      <td>1</td>\n",
       "      <td>1</td>\n",
       "      <td>female</td>\n",
       "      <td>47.0</td>\n",
       "      <td>1</td>\n",
       "      <td>1</td>\n",
       "      <td>52.5542</td>\n",
       "      <td>S</td>\n",
       "      <td>First</td>\n",
       "      <td>woman</td>\n",
       "      <td>False</td>\n",
       "      <td>D</td>\n",
       "      <td>Southampton</td>\n",
       "      <td>yes</td>\n",
       "      <td>False</td>\n",
       "      <td>3</td>\n",
       "    </tr>\n",
       "    <tr>\n",
       "      <th>872</th>\n",
       "      <td>0</td>\n",
       "      <td>1</td>\n",
       "      <td>male</td>\n",
       "      <td>33.0</td>\n",
       "      <td>0</td>\n",
       "      <td>0</td>\n",
       "      <td>5.0000</td>\n",
       "      <td>S</td>\n",
       "      <td>First</td>\n",
       "      <td>man</td>\n",
       "      <td>True</td>\n",
       "      <td>B</td>\n",
       "      <td>Southampton</td>\n",
       "      <td>no</td>\n",
       "      <td>True</td>\n",
       "      <td>1</td>\n",
       "    </tr>\n",
       "    <tr>\n",
       "      <th>879</th>\n",
       "      <td>1</td>\n",
       "      <td>1</td>\n",
       "      <td>female</td>\n",
       "      <td>56.0</td>\n",
       "      <td>0</td>\n",
       "      <td>1</td>\n",
       "      <td>83.1583</td>\n",
       "      <td>C</td>\n",
       "      <td>First</td>\n",
       "      <td>woman</td>\n",
       "      <td>False</td>\n",
       "      <td>C</td>\n",
       "      <td>Cherbourg</td>\n",
       "      <td>yes</td>\n",
       "      <td>False</td>\n",
       "      <td>2</td>\n",
       "    </tr>\n",
       "    <tr>\n",
       "      <th>887</th>\n",
       "      <td>1</td>\n",
       "      <td>1</td>\n",
       "      <td>female</td>\n",
       "      <td>19.0</td>\n",
       "      <td>0</td>\n",
       "      <td>0</td>\n",
       "      <td>30.0000</td>\n",
       "      <td>S</td>\n",
       "      <td>First</td>\n",
       "      <td>woman</td>\n",
       "      <td>False</td>\n",
       "      <td>B</td>\n",
       "      <td>Southampton</td>\n",
       "      <td>yes</td>\n",
       "      <td>True</td>\n",
       "      <td>1</td>\n",
       "    </tr>\n",
       "    <tr>\n",
       "      <th>889</th>\n",
       "      <td>1</td>\n",
       "      <td>1</td>\n",
       "      <td>male</td>\n",
       "      <td>26.0</td>\n",
       "      <td>0</td>\n",
       "      <td>0</td>\n",
       "      <td>30.0000</td>\n",
       "      <td>C</td>\n",
       "      <td>First</td>\n",
       "      <td>man</td>\n",
       "      <td>True</td>\n",
       "      <td>C</td>\n",
       "      <td>Cherbourg</td>\n",
       "      <td>yes</td>\n",
       "      <td>True</td>\n",
       "      <td>1</td>\n",
       "    </tr>\n",
       "  </tbody>\n",
       "</table>\n",
       "<p>182 rows × 16 columns</p>\n",
       "</div>"
      ],
      "text/plain": [
       "     survived  pclass     sex   age  sibsp  parch     fare embarked  class  \\\n",
       "1           1       1  female  38.0      1      0  71.2833        C  First   \n",
       "3           1       1  female  35.0      1      0  53.1000        S  First   \n",
       "6           0       1    male  54.0      0      0  51.8625        S  First   \n",
       "10          1       3  female   4.0      1      1  16.7000        S  Third   \n",
       "11          1       1  female  58.0      0      0  26.5500        S  First   \n",
       "..        ...     ...     ...   ...    ...    ...      ...      ...    ...   \n",
       "871         1       1  female  47.0      1      1  52.5542        S  First   \n",
       "872         0       1    male  33.0      0      0   5.0000        S  First   \n",
       "879         1       1  female  56.0      0      1  83.1583        C  First   \n",
       "887         1       1  female  19.0      0      0  30.0000        S  First   \n",
       "889         1       1    male  26.0      0      0  30.0000        C  First   \n",
       "\n",
       "       who  adult_male deck  embark_town alive  alone  family_size  \n",
       "1    woman       False    C    Cherbourg   yes  False            2  \n",
       "3    woman       False    C  Southampton   yes  False            2  \n",
       "6      man        True    E  Southampton    no   True            1  \n",
       "10   child       False    G  Southampton   yes  False            3  \n",
       "11   woman       False    C  Southampton   yes   True            1  \n",
       "..     ...         ...  ...          ...   ...    ...          ...  \n",
       "871  woman       False    D  Southampton   yes  False            3  \n",
       "872    man        True    B  Southampton    no   True            1  \n",
       "879  woman       False    C    Cherbourg   yes  False            2  \n",
       "887  woman       False    B  Southampton   yes   True            1  \n",
       "889    man        True    C    Cherbourg   yes   True            1  \n",
       "\n",
       "[182 rows x 16 columns]"
      ]
     },
     "execution_count": 55,
     "metadata": {},
     "output_type": "execute_result"
    }
   ],
   "source": [
    "ds[\"family_size\"] = ds[\"sibsp\"] + ds[\"parch\"] + 1 # Se añade un +1 porque el pasajero también cuenta como miembro de la familia\n",
    "# Aunque con esto no podemos identificar núcleos familiares (hombre-mujer-hijos), podemos filtrar igualmente por número de familiares\n",
    "ds"
   ]
  },
  {
   "cell_type": "code",
   "execution_count": 56,
   "metadata": {},
   "outputs": [
    {
     "data": {
      "text/plain": [
       "<Axes: xlabel='family_size', ylabel='Count'>"
      ]
     },
     "execution_count": 56,
     "metadata": {},
     "output_type": "execute_result"
    },
    {
     "data": {
      "image/png": "[encoded data removed]",
      "text/plain": [
       "<Figure size 640x480 with 1 Axes>"
      ]
     },
     "metadata": {},
     "output_type": "display_data"
    }
   ],
   "source": [
    "sns.histplot(data=ds, x=\"family_size\", hue=\"survived\", kde=True)"
   ]
  },
  {
   "cell_type": "code",
   "execution_count": 57,
   "metadata": {},
   "outputs": [
    {
     "data": {
      "text/plain": [
       "count    182.000000\n",
       "mean       1.945055\n",
       "std        1.111096\n",
       "min        1.000000\n",
       "25%        1.000000\n",
       "50%        2.000000\n",
       "75%        2.000000\n",
       "max        6.000000\n",
       "Name: family_size, dtype: float64"
      ]
     },
     "execution_count": 57,
     "metadata": {},
     "output_type": "execute_result"
    }
   ],
   "source": [
    "ds[\"family_size\"].describe()"
   ]
  },
  {
   "cell_type": "code",
   "execution_count": 95,
   "metadata": {},
   "outputs": [],
   "source": [
    "familia_numerosa = ds[ds[\"family_size\"] > 3][\"survived\"]\n",
    "# creamos un ds con los datos de las familias numerosas (más de 3 miembros) y seleccionamos la columna de supervivencia\n",
    "familia_no_numerosa = ds[ds[\"family_size\"] <= 3][\"survived\"]\n",
    "# creamos un ds con los datos de las familias no numerosas (3 o menos miembros) y seleccionamos la columna de supervivencia\n",
    "# En ambos casos, se incluye al pasajero"
   ]
  },
  {
   "cell_type": "code",
   "execution_count": 59,
   "metadata": {},
   "outputs": [
    {
     "data": {
      "text/plain": [
       "count    167.000000\n",
       "mean       0.670659\n",
       "std        0.471388\n",
       "min        0.000000\n",
       "25%        0.000000\n",
       "50%        1.000000\n",
       "75%        1.000000\n",
       "max        1.000000\n",
       "Name: survived, dtype: float64"
      ]
     },
     "execution_count": 59,
     "metadata": {},
     "output_type": "execute_result"
    }
   ],
   "source": [
    "familia_no_numerosa.describe()"
   ]
  },
  {
   "cell_type": "code",
   "execution_count": 60,
   "metadata": {},
   "outputs": [
    {
     "data": {
      "text/plain": [
       "count    15.000000\n",
       "mean      0.733333\n",
       "std       0.457738\n",
       "min       0.000000\n",
       "25%       0.500000\n",
       "50%       1.000000\n",
       "75%       1.000000\n",
       "max       1.000000\n",
       "Name: survived, dtype: float64"
      ]
     },
     "execution_count": 60,
     "metadata": {},
     "output_type": "execute_result"
    }
   ],
   "source": [
    "familia_numerosa.describe()"
   ]
  },
  {
   "cell_type": "code",
   "execution_count": 61,
   "metadata": {},
   "outputs": [
    {
     "name": "stdout",
     "output_type": "stream",
     "text": [
      "T-estadístico: 0.4943654514874315 P-value: 0.6216509060596945\n",
      "NO Rechazamos la H0 de que los grupos familiares pequeños tienen una tasa de supervivencia igual que las familias numerosas\n"
     ]
    }
   ],
   "source": [
    "t_stats, p_value = stats.ttest_ind(familia_numerosa, familia_no_numerosa)\n",
    "print('T-estadístico:', t_stats, 'P-value:', p_value)\n",
    "\n",
    "if p_value < 0.05:\n",
    "    print('Rechazamos la H0 de que los grupos familiares pequeños tienen una tasa de supervivencia igual que las familias numerosas')\t\n",
    "else:\n",
    "    print('NO Rechazamos la H0 de que los grupos familiares pequeños tienen una tasa de supervivencia igual que las familias numerosas')"
   ]
  },
  {
   "cell_type": "code",
   "execution_count": 96,
   "metadata": {},
   "outputs": [
    {
     "name": "stdout",
     "output_type": "stream",
     "text": [
      "La ratio de supervivencia de las familias numerosas fue del 73.33% y la de las familias no numerosas fue del 67.07%\n"
     ]
    }
   ],
   "source": [
    "print(f\"La ratio de supervivencia de las familias numerosas fue del {round(familia_numerosa.mean()*100,2)}% y la de las familias no numerosas fue del {round(familia_no_numerosa.mean()*100,2)}%\")"
   ]
  },
  {
   "cell_type": "markdown",
   "metadata": {},
   "source": [
    "### Hipótesis 13: La distribución de los pasajeros en las clases es independiente del sexo"
   ]
  },
  {
   "cell_type": "code",
   "execution_count": 62,
   "metadata": {},
   "outputs": [
    {
     "data": {
      "image/png": "[encoded data removed]",
      "text/plain": [
       "<Figure size 640x480 with 1 Axes>"
      ]
     },
     "metadata": {},
     "output_type": "display_data"
    }
   ],
   "source": [
    "sns.countplot(data=ds, x='sex' , hue='pclass')\n",
    "plt.show()"
   ]
  },
  {
   "cell_type": "code",
   "execution_count": 63,
   "metadata": {},
   "outputs": [
    {
     "name": "stdout",
     "output_type": "stream",
     "text": [
      "Chi2: 0.9191202922297922 P-value: 0.6315613791476373\n",
      "No Rechazamos la hipótesis nula de que la proporción de hombres y mujeres es la misma entre las clases\n"
     ]
    }
   ],
   "source": [
    "contingency_table = pd.crosstab(ds['sex'], ds['pclass'])\n",
    "chi2, p_value, dof, expected = stats.chi2_contingency(contingency_table)\n",
    "print('Chi2:', chi2, 'P-value:', p_value)\n",
    "\n",
    "if p_value < 0.05:\n",
    "    print('Rechazamos la hipótesis nula de que la proporción de hombres y mujeres es la misma entre las clases')\n",
    "else:\n",
    "    print('No Rechazamos la hipótesis nula de que la proporción de hombres y mujeres es la misma entre las clases')"
   ]
  },
  {
   "cell_type": "code",
   "execution_count": 64,
   "metadata": {},
   "outputs": [
    {
     "data": {
      "text/html": [
       "<div>\n",
       "<style scoped>\n",
       "    .dataframe tbody tr th:only-of-type {\n",
       "        vertical-align: middle;\n",
       "    }\n",
       "\n",
       "    .dataframe tbody tr th {\n",
       "        vertical-align: top;\n",
       "    }\n",
       "\n",
       "    .dataframe thead th {\n",
       "        text-align: right;\n",
       "    }\n",
       "</style>\n",
       "<table border=\"1\" class=\"dataframe\">\n",
       "  <thead>\n",
       "    <tr style=\"text-align: right;\">\n",
       "      <th>pclass</th>\n",
       "      <th>1</th>\n",
       "      <th>2</th>\n",
       "      <th>3</th>\n",
       "    </tr>\n",
       "    <tr>\n",
       "      <th>sex</th>\n",
       "      <th></th>\n",
       "      <th></th>\n",
       "      <th></th>\n",
       "    </tr>\n",
       "  </thead>\n",
       "  <tbody>\n",
       "    <tr>\n",
       "      <th>female</th>\n",
       "      <td>74</td>\n",
       "      <td>9</td>\n",
       "      <td>5</td>\n",
       "    </tr>\n",
       "    <tr>\n",
       "      <th>male</th>\n",
       "      <td>83</td>\n",
       "      <td>6</td>\n",
       "      <td>5</td>\n",
       "    </tr>\n",
       "  </tbody>\n",
       "</table>\n",
       "</div>"
      ],
      "text/plain": [
       "pclass   1  2  3\n",
       "sex             \n",
       "female  74  9  5\n",
       "male    83  6  5"
      ]
     },
     "execution_count": 64,
     "metadata": {},
     "output_type": "execute_result"
    }
   ],
   "source": [
    "contingency_table = pd.crosstab(ds['sex'], ds['pclass'])\n",
    "contingency_table"
   ]
  },
  {
   "cell_type": "markdown",
   "metadata": {},
   "source": [
    "### Hipótesis 14: Los pasajeros que viajaban en la cubierta del barco A tienen una tasa de supervivencia significativamente mayor que los que viajaban en la C\n"
   ]
  },
  {
   "cell_type": "code",
   "execution_count": 65,
   "metadata": {},
   "outputs": [
    {
     "data": {
      "image/png": "[encoded data removed]",
      "text/plain": [
       "<Figure size 640x480 with 1 Axes>"
      ]
     },
     "metadata": {},
     "output_type": "display_data"
    }
   ],
   "source": [
    "sns.countplot(data=ds, x='survived' , hue='deck')\n",
    "plt.show()"
   ]
  },
  {
   "cell_type": "code",
   "execution_count": 66,
   "metadata": {},
   "outputs": [],
   "source": [
    "pasajeros_A = ds[ds[\"deck\"]==\"A\"][\"survived\"]\n",
    "pasajeros_B = ds[ds[\"deck\"]==\"B\"][\"survived\"]\n",
    "pasajeros_C = ds[ds[\"deck\"]==\"C\"][\"survived\"]\n",
    "pasajeros_D = ds[ds[\"deck\"]==\"D\"][\"survived\"]\n",
    "pasajeros_E = ds[ds[\"deck\"]==\"E\"][\"survived\"]\n",
    "pasajeros_F = ds[ds[\"deck\"]==\"F\"][\"survived\"]\n",
    "pasajeros_G = ds[ds[\"deck\"]==\"G\"][\"survived\"]"
   ]
  },
  {
   "cell_type": "code",
   "execution_count": 67,
   "metadata": {},
   "outputs": [
    {
     "data": {
      "text/plain": [
       "23     1\n",
       "96     0\n",
       "174    0\n",
       "209    1\n",
       "445    1\n",
       "556    1\n",
       "583    0\n",
       "599    1\n",
       "630    1\n",
       "647    1\n",
       "806    0\n",
       "867    0\n",
       "Name: survived, dtype: int64"
      ]
     },
     "execution_count": 67,
     "metadata": {},
     "output_type": "execute_result"
    }
   ],
   "source": [
    "pasajeros_A"
   ]
  },
  {
   "cell_type": "code",
   "execution_count": 68,
   "metadata": {},
   "outputs": [
    {
     "data": {
      "text/plain": [
       "1      1\n",
       "3      1\n",
       "11     1\n",
       "27     0\n",
       "62     0\n",
       "88     1\n",
       "110    0\n",
       "137    0\n",
       "151    1\n",
       "177    0\n",
       "224    1\n",
       "230    1\n",
       "245    0\n",
       "252    0\n",
       "268    1\n",
       "269    1\n",
       "273    0\n",
       "297    0\n",
       "305    1\n",
       "307    1\n",
       "310    1\n",
       "318    1\n",
       "325    1\n",
       "331    0\n",
       "332    0\n",
       "336    0\n",
       "341    1\n",
       "377    0\n",
       "412    1\n",
       "430    1\n",
       "438    0\n",
       "449    1\n",
       "452    0\n",
       "453    1\n",
       "486    1\n",
       "492    0\n",
       "498    0\n",
       "505    0\n",
       "544    0\n",
       "550    1\n",
       "571    1\n",
       "581    1\n",
       "609    1\n",
       "698    0\n",
       "700    1\n",
       "710    1\n",
       "712    1\n",
       "716    1\n",
       "741    0\n",
       "879    1\n",
       "889    1\n",
       "Name: survived, dtype: int64"
      ]
     },
     "execution_count": 68,
     "metadata": {},
     "output_type": "execute_result"
    }
   ],
   "source": [
    "pasajeros_C"
   ]
  },
  {
   "cell_type": "code",
   "execution_count": 69,
   "metadata": {},
   "outputs": [
    {
     "name": "stdout",
     "output_type": "stream",
     "text": [
      "T-estadístico: -0.030536991249867848 P-value: 0.9757384864153693\n",
      "NO Rechazamos la H0 de que los pasajeros de la cubierta A tienen una tasa de supervivencia igual que los de C\n"
     ]
    }
   ],
   "source": [
    "t_stats, p_value = stats.ttest_ind(pasajeros_A, pasajeros_C)\n",
    "print('T-estadístico:', t_stats, 'P-value:', p_value)\n",
    "\n",
    "if p_value < 0.05:\n",
    "    print('Rechazamos la H0 de que los pasajeros de la cubierta A tienen una tasa de supervivencia igual que los de C')\t\n",
    "else:\n",
    "    print('NO Rechazamos la H0 de que los pasajeros de la cubierta A tienen una tasa de supervivencia igual que los de C')"
   ]
  },
  {
   "cell_type": "code",
   "execution_count": 98,
   "metadata": {},
   "outputs": [
    {
     "name": "stdout",
     "output_type": "stream",
     "text": [
      "La ratio de supervivencia de los pasajeros de la cubierta C fue del 58.82%\n",
      "La ratio de supervivencia de los pasajeros de la cubierta A fue del 58.33%\n"
     ]
    }
   ],
   "source": [
    "print(f\"La ratio de supervivencia de los pasajeros de la cubierta C fue del {round(pasajeros_C.mean()*100,2)}%\\nLa ratio de supervivencia de los pasajeros de la cubierta A fue del {round(pasajeros_A.mean()*100,2)}%\")"
   ]
  },
  {
   "cell_type": "code",
   "execution_count": 70,
   "metadata": {},
   "outputs": [
    {
     "name": "stdout",
     "output_type": "stream",
     "text": [
      "T-estadístico: -1.0764534928996192 P-value: 0.286600147853019\n",
      "NO Rechazamos la H0 de que los pasajeros de la cubierta A tienen una tasa de supervivencia igual que los de B\n"
     ]
    }
   ],
   "source": [
    "t_stats, p_value = stats.ttest_ind(pasajeros_A, pasajeros_B)\n",
    "print('T-estadístico:', t_stats, 'P-value:', p_value)\n",
    "\n",
    "if p_value < 0.05:\n",
    "    print('Rechazamos la H0 de que los pasajeros de la cubierta A tienen una tasa de supervivencia igual que los de B')\t\n",
    "else:\n",
    "    print('NO Rechazamos la H0 de que los pasajeros de la cubierta A tienen una tasa de supervivencia igual que los de B')"
   ]
  },
  {
   "cell_type": "code",
   "execution_count": 71,
   "metadata": {},
   "outputs": [
    {
     "name": "stdout",
     "output_type": "stream",
     "text": [
      "T-estadístico: 1.4115304540052913 P-value: 0.16196582929552242\n",
      "NO Rechazamos la H0 de que los pasajeros de la cubierta D tienen una tasa de supervivencia igual que los de C\n"
     ]
    }
   ],
   "source": [
    "t_stats, p_value = stats.ttest_ind(pasajeros_D, pasajeros_C)\n",
    "print('T-estadístico:', t_stats, 'P-value:', p_value)\n",
    "\n",
    "if p_value < 0.05:\n",
    "    print('Rechazamos la H0 de que los pasajeros de la cubierta D tienen una tasa de supervivencia igual que los de C')\t\n",
    "else:\n",
    "    print('NO Rechazamos la H0 de que los pasajeros de la cubierta D tienen una tasa de supervivencia igual que los de C')"
   ]
  },
  {
   "cell_type": "code",
   "execution_count": 97,
   "metadata": {},
   "outputs": [
    {
     "name": "stdout",
     "output_type": "stream",
     "text": [
      "La ratio de supervivencia de los pasajeros de la cubierta C fue del 58.82%\n",
      "La ratio de supervivencia de los pasajeros de la cubierta D fue del 74.19%\n"
     ]
    }
   ],
   "source": [
    "print(f\"La ratio de supervivencia de los pasajeros de la cubierta C fue del {round(pasajeros_C.mean()*100,2)}%\\nLa ratio de supervivencia de los pasajeros de la cubierta D fue del {round(pasajeros_D.mean()*100,2)}%\")"
   ]
  },
  {
   "cell_type": "code",
   "execution_count": 72,
   "metadata": {},
   "outputs": [
    {
     "name": "stdout",
     "output_type": "stream",
     "text": [
      "T-estadístico: 0.6532940562170756 P-value: 0.5173045727104575\n",
      "NO Rechazamos la H0 de que los pasajeros de la cubierta D tienen una tasa de supervivencia igual que los de F\n"
     ]
    }
   ],
   "source": [
    "t_stats, p_value = stats.ttest_ind(pasajeros_D, pasajeros_F)\n",
    "print('T-estadístico:', t_stats, 'P-value:', p_value)\n",
    "\n",
    "if p_value < 0.05:\n",
    "    print('Rechazamos la H0 de que los pasajeros de la cubierta D tienen una tasa de supervivencia igual que los de F')\t\n",
    "else:\n",
    "    print('NO Rechazamos la H0 de que los pasajeros de la cubierta D tienen una tasa de supervivencia igual que los de F')"
   ]
  },
  {
   "cell_type": "markdown",
   "metadata": {},
   "source": [
    "### Hipótesis 15: Las personas con titulos como Miss o Mrs tenian una tasa de supervivencia significativamente mayor que los Mr"
   ]
  },
  {
   "cell_type": "code",
   "execution_count": 73,
   "metadata": {},
   "outputs": [
    {
     "data": {
      "image/png": "[encoded data removed]",
      "text/plain": [
       "<Figure size 640x480 with 1 Axes>"
      ]
     },
     "metadata": {},
     "output_type": "display_data"
    }
   ],
   "source": [
    "sns.countplot(data=ds, x='alive' , hue='who')\n",
    "plt.show()"
   ]
  },
  {
   "cell_type": "code",
   "execution_count": 100,
   "metadata": {},
   "outputs": [
    {
     "name": "stdout",
     "output_type": "stream",
     "text": [
      "Chi2: 62.36731573884427 P-value: 2.864899962615698e-14\n",
      "Rechazamos la hipótesis nula de que la ratio de supervivencia entre hombres, mujeres y niños (3 grupos) es la misma, pero no se puede saber qué grupo difiere\n"
     ]
    }
   ],
   "source": [
    "contingency_table = pd.crosstab(ds[\"who\"], ds[\"survived\"])\n",
    "chi2, p_value, dof, expected = stats.chi2_contingency(contingency_table)\n",
    "print('Chi2:', chi2, 'P-value:', p_value)\n",
    "\n",
    "if p_value < 0.05:\n",
    "    print('Rechazamos la hipótesis nula de que la ratio de supervivencia entre hombres, mujeres y niños (3 grupos) es la misma, pero no se puede saber qué grupo difiere')\n",
    "else:\n",
    "    print('No Rechazamos la hipótesis nula de que la ratio de supervivencia entre hombres, mujeres y niños (3 grupos) es la misma')"
   ]
  },
  {
   "cell_type": "code",
   "execution_count": 75,
   "metadata": {},
   "outputs": [
    {
     "data": {
      "text/html": [
       "<div>\n",
       "<style scoped>\n",
       "    .dataframe tbody tr th:only-of-type {\n",
       "        vertical-align: middle;\n",
       "    }\n",
       "\n",
       "    .dataframe tbody tr th {\n",
       "        vertical-align: top;\n",
       "    }\n",
       "\n",
       "    .dataframe thead th {\n",
       "        text-align: right;\n",
       "    }\n",
       "</style>\n",
       "<table border=\"1\" class=\"dataframe\">\n",
       "  <thead>\n",
       "    <tr style=\"text-align: right;\">\n",
       "      <th>survived</th>\n",
       "      <th>0</th>\n",
       "      <th>1</th>\n",
       "    </tr>\n",
       "    <tr>\n",
       "      <th>who</th>\n",
       "      <th></th>\n",
       "      <th></th>\n",
       "    </tr>\n",
       "  </thead>\n",
       "  <tbody>\n",
       "    <tr>\n",
       "      <th>child</th>\n",
       "      <td>2</td>\n",
       "      <td>11</td>\n",
       "    </tr>\n",
       "    <tr>\n",
       "      <th>man</th>\n",
       "      <td>53</td>\n",
       "      <td>34</td>\n",
       "    </tr>\n",
       "    <tr>\n",
       "      <th>woman</th>\n",
       "      <td>4</td>\n",
       "      <td>78</td>\n",
       "    </tr>\n",
       "  </tbody>\n",
       "</table>\n",
       "</div>"
      ],
      "text/plain": [
       "survived   0   1\n",
       "who             \n",
       "child      2  11\n",
       "man       53  34\n",
       "woman      4  78"
      ]
     },
     "execution_count": 75,
     "metadata": {},
     "output_type": "execute_result"
    }
   ],
   "source": [
    "contingency_table = pd.crosstab(ds[\"who\"], ds[\"survived\"])\n",
    "contingency_table"
   ]
  },
  {
   "cell_type": "markdown",
   "metadata": {},
   "source": [
    "#### Excluyendo a los niños"
   ]
  },
  {
   "cell_type": "code",
   "execution_count": 76,
   "metadata": {},
   "outputs": [],
   "source": [
    "mr = ds[ds[\"who\"]==\"man\"][\"survived\"]\n",
    "miss = ds[ds[\"who\"]==\"woman\"][\"survived\"]"
   ]
  },
  {
   "cell_type": "code",
   "execution_count": 77,
   "metadata": {},
   "outputs": [
    {
     "name": "stdout",
     "output_type": "stream",
     "text": [
      "T-estadístico: -9.502827288213998 P-value: 2.1739494292055012e-17\n",
      "Rechazamos la H0 de que hombres y mujeres tuvieron la misma ratio de supervivencia\n"
     ]
    }
   ],
   "source": [
    "t_stats, p_value = stats.ttest_ind(mr, miss)\n",
    "print('T-estadístico:', t_stats, 'P-value:', p_value)\n",
    "\n",
    "if p_value < 0.05:\n",
    "    print('Rechazamos la H0 de que hombres y mujeres tuvieron la misma ratio de supervivencia')\t\n",
    "else:\n",
    "    print('NO Rechazamos la H0 de que hombres y mujeres tuvieron la misma ratio de supervivencia')"
   ]
  },
  {
   "cell_type": "code",
   "execution_count": 78,
   "metadata": {},
   "outputs": [
    {
     "data": {
      "text/plain": [
       "count    87.000000\n",
       "mean      0.390805\n",
       "std       0.490759\n",
       "min       0.000000\n",
       "25%       0.000000\n",
       "50%       0.000000\n",
       "75%       1.000000\n",
       "max       1.000000\n",
       "Name: survived, dtype: float64"
      ]
     },
     "execution_count": 78,
     "metadata": {},
     "output_type": "execute_result"
    }
   ],
   "source": [
    "mr.describe()"
   ]
  },
  {
   "cell_type": "code",
   "execution_count": 79,
   "metadata": {},
   "outputs": [
    {
     "data": {
      "text/plain": [
       "count    82.000000\n",
       "mean      0.951220\n",
       "std       0.216734\n",
       "min       0.000000\n",
       "25%       1.000000\n",
       "50%       1.000000\n",
       "75%       1.000000\n",
       "max       1.000000\n",
       "Name: survived, dtype: float64"
      ]
     },
     "execution_count": 79,
     "metadata": {},
     "output_type": "execute_result"
    }
   ],
   "source": [
    "miss.describe()"
   ]
  },
  {
   "cell_type": "code",
   "execution_count": 101,
   "metadata": {},
   "outputs": [
    {
     "name": "stdout",
     "output_type": "stream",
     "text": [
      "La ratio de supervivencia de los hombres fue del 39.08%\n",
      "La ratio de supervivencia de las mujeres fue del 95.12%\n"
     ]
    }
   ],
   "source": [
    "print(f\"La ratio de supervivencia de los hombres fue del {round(mr.mean()*100,2)}%\\nLa ratio de supervivencia de las mujeres fue del {round(miss.mean()*100,2)}%\")"
   ]
  },
  {
   "cell_type": "markdown",
   "metadata": {},
   "source": [
    "### Hipótesis 16: Las personas que embarcaron en Southhampton en solitario tuvieron una ratio de supervivencia signitivamente superior que las acompañadas"
   ]
  },
  {
   "cell_type": "code",
   "execution_count": 80,
   "metadata": {},
   "outputs": [
    {
     "data": {
      "image/png": "[encoded data removed]",
      "text/plain": [
       "<Figure size 640x480 with 1 Axes>"
      ]
     },
     "metadata": {},
     "output_type": "display_data"
    }
   ],
   "source": [
    "sns.countplot(data=ds, x='embarked' , hue='alone')\n",
    "plt.show()"
   ]
  },
  {
   "cell_type": "code",
   "execution_count": 81,
   "metadata": {},
   "outputs": [],
   "source": [
    "South_alone = ds[(ds[\"embarked\"]==\"S\") & (ds[\"alone\"]==True)][\"survived\"]\n",
    "South_group = ds[(ds[\"embarked\"]==\"S\") & (ds[\"alone\"]==False)][\"survived\"]"
   ]
  },
  {
   "cell_type": "code",
   "execution_count": 82,
   "metadata": {},
   "outputs": [
    {
     "data": {
      "text/plain": [
       "count    64.000000\n",
       "mean      0.687500\n",
       "std       0.467177\n",
       "min       0.000000\n",
       "25%       0.000000\n",
       "50%       1.000000\n",
       "75%       1.000000\n",
       "max       1.000000\n",
       "Name: survived, dtype: float64"
      ]
     },
     "execution_count": 82,
     "metadata": {},
     "output_type": "execute_result"
    }
   ],
   "source": [
    "South_group.describe()"
   ]
  },
  {
   "cell_type": "code",
   "execution_count": 83,
   "metadata": {},
   "outputs": [
    {
     "data": {
      "text/plain": [
       "count    51.000000\n",
       "mean      0.588235\n",
       "std       0.497050\n",
       "min       0.000000\n",
       "25%       0.000000\n",
       "50%       1.000000\n",
       "75%       1.000000\n",
       "max       1.000000\n",
       "Name: survived, dtype: float64"
      ]
     },
     "execution_count": 83,
     "metadata": {},
     "output_type": "execute_result"
    }
   ],
   "source": [
    "South_alone.describe()"
   ]
  },
  {
   "cell_type": "code",
   "execution_count": 84,
   "metadata": {},
   "outputs": [
    {
     "name": "stdout",
     "output_type": "stream",
     "text": [
      "T-estadístico: -1.1003111512277912 P-value: 0.27353504374926624\n",
      "NO Rechazamos la H0: las ratios son iguales en ambos grupos\n"
     ]
    }
   ],
   "source": [
    "t_stats, p_value = stats.ttest_ind(South_alone, South_group)\n",
    "print('T-estadístico:', t_stats, 'P-value:', p_value)\n",
    "\n",
    "if p_value < 0.05:\n",
    "    print('Rechazamos la H0 de que Las personas que embarcaron en Southhampton en solitario tuvieron una ratio de supervivencia signitivamente superior')\t\n",
    "else:\n",
    "    print('NO Rechazamos la H0: las ratios son iguales en ambos grupos')"
   ]
  },
  {
   "cell_type": "code",
   "execution_count": 102,
   "metadata": {},
   "outputs": [
    {
     "name": "stdout",
     "output_type": "stream",
     "text": [
      "La ratio de supervivencia de los pasajeros de Southampton que viajaron solos fue del 58.82%\n",
      "La ratio de supervivencia de los pasajeros de Southampton que viajaron acompañados fue del 68.75%\n"
     ]
    }
   ],
   "source": [
    "print(f\"La ratio de supervivencia de los pasajeros de Southampton que viajaron solos fue del {round(South_alone.mean()*100,2)}%\\nLa ratio de supervivencia de los pasajeros de Southampton que viajaron acompañados fue del {round(South_group.mean()*100,2)}%\")"
   ]
  },
  {
   "cell_type": "markdown",
   "metadata": {},
   "source": [
    "# Fin del documento"
   ]
  }
 ],
 "metadata": {
  "kernelspec": {
   "display_name": "Python 3",
   "language": "python",
   "name": "python3"
  },
  "language_info": {
   "codemirror_mode": {
    "name": "ipython",
    "version": 3
   },
   "file_extension": ".py",
   "mimetype": "text/x-python",
   "name": "python",
   "nbconvert_exporter": "python",
   "pygments_lexer": "ipython3",
   "version": "3.10.11"
  }
 },
 "nbformat": 4,
 "nbformat_minor": 2
}
